{
  "cells": [
    {
      "cell_type": "code",
      "execution_count": 24,
      "id": "judicial-component",
      "metadata": {
        "colab": {
          "base_uri": "https://localhost:8080/"
        },
        "id": "judicial-component",
        "outputId": "6250b322-d3eb-45d6-91d3-6418bc48f274"
      },
      "outputs": [
        {
          "name": "stdout",
          "output_type": "stream",
          "text": [
            "Drive already mounted at /content/drive; to attempt to forcibly remount, call drive.mount(\"/content/drive\", force_remount=True).\n"
          ]
        }
      ],
      "source": [
        "from time import time\n",
        "from collections import defaultdict\n",
        "\n",
        "from google.colab import drive\n",
        "drive.mount('/content/drive')\n",
        "import os\n",
        "os.chdir('/content/drive/My Drive/Colab Notebooks/')"
      ]
    },
    {
      "cell_type": "markdown",
      "id": "quarterly-norway",
      "metadata": {
        "id": "quarterly-norway"
      },
      "source": [
        "### 1. Enhanced Levenshtein: function distance\n",
        "* insertion = 1\n",
        "* deletion = 1\n",
        "* substitution = 1\n",
        "* except for cases:\n",
        "* ž <-> zh = 0.1\n",
        "* š <-> sh = 0.1\n",
        "* ö <-> 8 = 0.1\n",
        "* ü <-> y = 0.1\n",
        "* õ <-> 6 = 0.1\n",
        "* ä <-> 2 = 0.1\n",
        "* x <-> ks = 0.1\n",
        "* exchangeable pair of symbols = 0.5 (e.g., kt <-> tk in the word \"punkt\"; ?! <-> !?)\n",
        "* lowercase <-> uppercase (same letter) = 0.1\n"
      ]
    },
    {
      "cell_type": "code",
      "execution_count": 25,
      "id": "QOTl44vH3oe4",
      "metadata": {
        "id": "QOTl44vH3oe4"
      },
      "outputs": [],
      "source": [
        "def kaugus(xs, ys):\n",
        "   \n",
        "#Enhanced Levenshtein Distance\n",
        "#Returns the distance between two given strings\n",
        "    \n",
        "    mem = defaultdict(lambda: defaultdict(lambda: -1))\n",
        "    def _lev(s1,s2):\n",
        "        if mem[s1][s2]!=-1:\n",
        "            return mem[s1][s2]\n",
        "        if len(s1)==0:\n",
        "            mem[s1][s2] = len(s2)\n",
        "            return mem[s1][s2]\n",
        "        if len(s2)==0:\n",
        "            mem[s1][s2] = len(s1)\n",
        "            return mem[s1][s2]\n",
        "        else:\n",
        "            cost = 1\n",
        "            if s1[-1]==s2[-1]:\n",
        "                cost = 0\n",
        "\n",
        "            # Loetelu massiivi\n",
        "            levcosts = []\n",
        "            # adding - 1\n",
        "            levcosts.append(_lev(s1[:-1],s2)+1)\n",
        "            # deleting - 1\n",
        "            levcosts.append(_lev(s1,s2[:-1])+1)\n",
        "            # substitution - 1 või 0\n",
        "            levcosts.append(_lev(s1[:-1],s2[:-1])+cost)\n",
        "\n",
        "            # ž <-> zh = 0.1\n",
        "            if (s1[-1] == 'ž' and s2[-2:] == 'zh'):\n",
        "                levcosts.append(_lev(s1[:-1],s2[:-2])+0.1)\n",
        "             # zh <-> ž = 0.1\n",
        "            if (s2[-1] == 'ž' and s1[-2:] == 'zh'):\n",
        "                levcosts.append(_lev(s1[:-2],s2[:-1])+0.1)\n",
        "\n",
        "            # š<->sh - 0.1\n",
        "            if (s1[-1] == 'š' and s2[-2:] == 'sh'):\n",
        "                levcosts.append(_lev(s1[:-1],s2[:-2])+0.1)\n",
        "             # sh <-> š = 0.1\n",
        "            if (s2[-1] == 'š' and s1[-2:] == 'sh'):\n",
        "                levcosts.append(_lev(s1[:-2],s2[:-1])+0.1)\n",
        "\n",
        "            # ö<->8 - 0.1\n",
        "            if (s1[-1]=='ö' and s2[-1]=='8') or (s1[-1]=='8' and s2[-1]=='ö'):\n",
        "                levcosts.append(_lev(s1[:-1],s2[:-1])+0.1)\n",
        "            # ü<->y - 0.1\n",
        "            if (s1[-1]=='ü' and s2[-1]=='y') or (s1[-1]=='ü' and s2[-1]=='y'):\n",
        "                levcosts.append(_lev(s1[:-1],s2[:-1])+0.1)\n",
        "            # õ<->6 - 0.1\n",
        "            if (s1[-1]=='õ' and s2[-1]=='6') or (s1[-1]=='6' and s2[-1]=='õ'):\n",
        "                levcosts.append(_lev(s1[:-1],s2[:-1])+0.1)\n",
        "            # ä<->2 - 0.1\n",
        "            if (s1[-1]=='ä' and s2[-1]=='2') or (s1[-1]=='2' and s2[-1]=='ä'):\n",
        "                levcosts.append(_lev(s1[:-1],s2[:-1])+0.1)\n",
        "\n",
        "            # x <-> ks = 0.1\n",
        "            if (s1[-1] == 'x' and s2[-2:] == 'ks'):\n",
        "                levcosts.append(_lev(s1[:-1],s2[:-2])+0.1)\n",
        "             # ks <-> x = 0.1\n",
        "            if (s2[-1] == 'x' and s1[-2:] == 'ks'):\n",
        "                levcosts.append(_lev(s1[:-2],s2[:-1])+0.1)\n",
        "\n",
        "            # pair of symbols exchanged (e.g., kt <-> tk)\n",
        "            if len(s1) > 1 and len(s2) > 1 and s1[-1] == s2[-2] and s1[-2] == s2[-1]:\n",
        "                levcosts.append(_lev(s1[:-2], s2[:-2]) + 0.5)\n",
        "\n",
        "            # lowercase-uppercase either way - 0.1\n",
        "            if s1[-1].lower() == s2[-1].lower():\n",
        "                levcosts.append(_lev(s1[:-1], s2[:-1]) + 0.1)\n",
        "\n",
        "\n",
        "            mem[s1][s2] = min(levcosts)\n",
        "            return mem[s1][s2]\n",
        "\n",
        "    return(_lev(xs,ys))"
      ]
    },
    {
      "cell_type": "markdown",
      "id": "warming-maker",
      "metadata": {
        "id": "warming-maker"
      },
      "source": [
        "## 2. funktsioonid *sonad* ja *soovitus*\n",
        "\n",
        "Function **soned** - Reads and preprocesses the EKI word forms file. The returned object can be of your choice (yes, it can be a list, a user-defined class, etc.).\n",
        "\n",
        "Function **soovitus** - Returns three word forms from the word forms file via the function words, whose transformation distance to the given word according to the method is minimal, while they are sorted increasingly in terms of distance. In case of a tie, you can decide.\n"
      ]
    },
    {
      "cell_type": "code",
      "execution_count": 26,
      "id": "published-covering",
      "metadata": {
        "id": "published-covering"
      },
      "outputs": [],
      "source": [
        "def soned(failinimi):\n",
        "    # Saab ette EKI sõnavormide nimistu, kus on sõna real\n",
        "    # Tagastab nende sisseloetud-töötletud kuju\n",
        "    with open(failinimi, 'r', encoding='utf-8') as file:\n",
        "        mudel = [line.strip().replace('|', '') for line in file]\n",
        "    return mudel"
      ]
    },
    {
      "cell_type": "code",
      "execution_count": 27,
      "id": "bottom-arbitration",
      "metadata": {
        "id": "bottom-arbitration"
      },
      "outputs": [],
      "source": [
        "def soovitus(mudel, sona):\n",
        "    # gets the model and a word to calculate distance\n",
        "    # Returns three word forms most similar to this word based on the 'distance' function.\n",
        "    kaugused = [(x, kaugus(x, sona)) for x in mudel]\n",
        "    kaugused.sort(key=lambda x: x[1])\n",
        "    top_3 = [distance[0] for distance in kaugused[:3]]\n",
        "    return top_3\n"
      ]
    },
    {
      "cell_type": "markdown",
      "id": "national-worse",
      "metadata": {
        "id": "national-worse"
      },
      "source": [
        "## Testing"
      ]
    },
    {
      "cell_type": "code",
      "execution_count": 28,
      "id": "continuous-german",
      "metadata": {
        "colab": {
          "base_uri": "https://localhost:8080/"
        },
        "id": "continuous-german",
        "outputId": "d95513c1-5bcd-4438-aae5-70984e66ee39"
      },
      "outputs": [
        {
          "name": "stdout",
          "output_type": "stream",
          "text": [
            "Kaugus saadi 1.1, õige vastus oli 0.2\n",
            "Aega kulus 0.0 sekundit\n",
            "\n",
            "Sõnavormide sisselugemiseks kulus 0.09 sekundit\n",
            "Soovitused: ['keemiatehnoloogia', 'teabetehnoloogia', 'kõrgtehnoloogia'], aega vastuse saamiseks kulus 139.66 sekundit\n"
          ]
        }
      ],
      "source": [
        "if __name__ == \"__main__\":\n",
        "   \n",
        "    algusaeg = time()\n",
        "    dist = kaugus(\"yx\",\"üks\") #0,2\n",
        "    aega = time()-algusaeg\n",
        "    print(\"Kaugus saadi {}, õige vastus oli {}\".format(dist,0.2))\n",
        "    print(\"Aega kulus {} sekundit\".format(round(aega,2)))\n",
        "    print()\n",
        "\n",
        "    algusaeg = time()\n",
        "    m = soned(\"vormid.txt\")\n",
        "    aega = time()-algusaeg\n",
        "    print(\"Sõnavormide sisselugemiseks kulus {} sekundit\".format(round(aega,2)))\n",
        "\n",
        "    algusaeg = time()\n",
        "    vastus = soovitus(m,\"keeletenholoogia\")\n",
        "    aega = time()-algusaeg\n",
        "    print(\"Soovitused: {}, aega vastuse saamiseks kulus {} sekundit\".format(vastus,round(aega,2)))"
      ]
    }
  ],
  "metadata": {
    "colab": {
      "provenance": []
    },
    "kernelspec": {
      "display_name": "Python 3 (ipykernel)",
      "language": "python",
      "name": "python3"
    },
    "language_info": {
      "codemirror_mode": {
        "name": "ipython",
        "version": 3
      },
      "file_extension": ".py",
      "mimetype": "text/x-python",
      "name": "python",
      "nbconvert_exporter": "python",
      "pygments_lexer": "ipython3",
      "version": "3.10.12"
    }
  },
  "nbformat": 4,
  "nbformat_minor": 5
}
